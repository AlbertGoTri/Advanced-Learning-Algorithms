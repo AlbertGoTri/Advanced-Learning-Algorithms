{
 "cells": [
  {
   "cell_type": "code",
   "execution_count": null,
   "id": "32f09a9d",
   "metadata": {
    "vscode": {
     "languageId": "plaintext"
    }
   },
   "outputs": [],
   "source": [
    "import numpy as np\n",
    "%matplotlib widget\n",
    "import matplotlib.pyplot as plt\n",
    "from sklearn.linear_model import LinearRegression, Ridge\n",
    "from sklearn.preprocessing import StandardScaler, PolynomialFeatures\n",
    "from sklearn.model_selection import train_test_split\n",
    "from sklearn.metrics import mean_squared_error\n",
    "import tensorflow as tf\n",
    "from tensorflow.keras.models import Sequential\n",
    "from tensorflow.keras.layers import Dense\n",
    "from tensorflow.keras.activations import relu,linear\n",
    "from tensorflow.keras.losses import SparseCategoricalCrossentropy\n",
    "from tensorflow.keras.optimizers import Adam\n",
    "\n",
    "import logging\n",
    "logging.getLogger(\"tensorflow\").setLevel(logging.ERROR)\n",
    "\n",
    "from public_tests_a1 import * \n",
    "\n",
    "tf.keras.backend.set_floatx('float64')\n",
    "from assigment_utils import *\n",
    "\n",
    "tf.autograph.set_verbosity(0)"
   ]
  },
  {
   "cell_type": "code",
   "execution_count": null,
   "id": "a10471f6",
   "metadata": {
    "vscode": {
     "languageId": "plaintext"
    }
   },
   "outputs": [],
   "source": [
    "# Generate some data\n",
    "X,y,x_ideal,y_ideal = gen_data(18, 2, 0.7)\n",
    "print(\"X.shape\", X.shape, \"y.shape\", y.shape)\n",
    "\n",
    "#split the data using sklearn routine \n",
    "X_train, X_test, y_train, y_test = train_test_split(X,y,test_size=0.33, random_state=1)\n",
    "print(\"X_train.shape\", X_train.shape, \"y_train.shape\", y_train.shape)\n",
    "print(\"X_test.shape\", X_test.shape, \"y_test.shape\", y_test.shape)"
   ]
  },
  {
   "cell_type": "code",
   "execution_count": null,
   "id": "75a06f39",
   "metadata": {
    "vscode": {
     "languageId": "plaintext"
    }
   },
   "outputs": [],
   "source": [
    "fig, ax = plt.subplots(1,1,figsize=(4,4))\n",
    "ax.plot(x_ideal, y_ideal, \"--\", color = \"orangered\", label=\"y_ideal\", lw=1)\n",
    "ax.set_title(\"Training, Test\",fontsize = 14)\n",
    "ax.set_xlabel(\"x\")\n",
    "ax.set_ylabel(\"y\")\n",
    "\n",
    "ax.scatter(X_train, y_train, color = \"red\",           label=\"train\")\n",
    "ax.scatter(X_test, y_test,   color = dlc[\"dlblue\"],   label=\"test\")\n",
    "ax.legend(loc='upper left')\n",
    "plt.show()"
   ]
  },
  {
   "cell_type": "code",
   "execution_count": null,
   "id": "e70aa95e",
   "metadata": {
    "vscode": {
     "languageId": "plaintext"
    }
   },
   "outputs": [],
   "source": [
    "# UNQ_C1\n",
    "# GRADED CELL: eval_mse\n",
    "def eval_mse(y, yhat):\n",
    "    \"\"\" \n",
    "    Calculate the mean squared error on a data set.\n",
    "    Args:\n",
    "      y    : (ndarray  Shape (m,) or (m,1))  target value of each example\n",
    "      yhat : (ndarray  Shape (m,) or (m,1))  predicted value of each example\n",
    "    Returns:\n",
    "      err: (scalar)             \n",
    "    \"\"\"\n",
    "    m = len(y)\n",
    "    err = 0.0\n",
    "    for i in range(m):\n",
    "        err += (yhat[i] - y[i]) ** 2    \n",
    "    err = err / (2 * m)\n",
    "    \n",
    "    return(err)"
   ]
  },
  {
   "cell_type": "code",
   "execution_count": null,
   "id": "71aa0246",
   "metadata": {
    "vscode": {
     "languageId": "plaintext"
    }
   },
   "outputs": [],
   "source": [
    "y_hat = np.array([2.4, 4.2])\n",
    "y_tmp = np.array([2.3, 4.1])\n",
    "eval_mse(y_hat, y_tmp)\n",
    "\n",
    "# BEGIN UNIT TEST\n",
    "test_eval_mse(eval_mse)   \n",
    "# END UNIT TEST"
   ]
  },
  {
   "cell_type": "code",
   "execution_count": null,
   "id": "d8bc3887",
   "metadata": {
    "vscode": {
     "languageId": "plaintext"
    }
   },
   "outputs": [],
   "source": [
    "# create a model in sklearn, train on training data\n",
    "degree = 10\n",
    "lmodel = lin_model(degree)\n",
    "lmodel.fit(X_train, y_train)\n",
    "\n",
    "# predict on training data, find training error\n",
    "yhat = lmodel.predict(X_train)\n",
    "err_train = lmodel.mse(y_train, yhat)\n",
    "\n",
    "# predict on test data, find error\n",
    "yhat = lmodel.predict(X_test)\n",
    "err_test = lmodel.mse(y_test, yhat)"
   ]
  },
  {
   "cell_type": "code",
   "execution_count": null,
   "id": "f10f29c8",
   "metadata": {
    "vscode": {
     "languageId": "plaintext"
    }
   },
   "outputs": [],
   "source": [
    "print(f\"training err {err_train:0.2f}, test err {err_test:0.2f}\")"
   ]
  },
  {
   "cell_type": "code",
   "execution_count": null,
   "id": "216a40e6",
   "metadata": {
    "vscode": {
     "languageId": "plaintext"
    }
   },
   "outputs": [],
   "source": [
    "# plot predictions over data range \n",
    "x = np.linspace(0,int(X.max()),100)  # predict values for plot\n",
    "y_pred = lmodel.predict(x).reshape(-1,1)\n",
    "\n",
    "plt_train_test(X_train, y_train, X_test, y_test, x, y_pred, x_ideal, y_ideal, degree)"
   ]
  },
  {
   "cell_type": "code",
   "execution_count": null,
   "id": "032de6d8",
   "metadata": {
    "vscode": {
     "languageId": "plaintext"
    }
   },
   "outputs": [],
   "source": [
    "# Generate  data\n",
    "X,y, x_ideal,y_ideal = gen_data(40, 5, 0.7)\n",
    "print(\"X.shape\", X.shape, \"y.shape\", y.shape)\n",
    "\n",
    "#split the data using sklearn routine \n",
    "X_train, X_, y_train, y_ = train_test_split(X,y,test_size=0.40, random_state=1)\n",
    "X_cv, X_test, y_cv, y_test = train_test_split(X_,y_,test_size=0.50, random_state=1)\n",
    "print(\"X_train.shape\", X_train.shape, \"y_train.shape\", y_train.shape)\n",
    "print(\"X_cv.shape\", X_cv.shape, \"y_cv.shape\", y_cv.shape)\n",
    "print(\"X_test.shape\", X_test.shape, \"y_test.shape\", y_test.shape)"
   ]
  },
  {
   "cell_type": "code",
   "execution_count": null,
   "id": "c3e72357",
   "metadata": {
    "vscode": {
     "languageId": "plaintext"
    }
   },
   "outputs": [],
   "source": [
    "fig, ax = plt.subplots(1,1,figsize=(4,4))\n",
    "ax.plot(x_ideal, y_ideal, \"--\", color = \"orangered\", label=\"y_ideal\", lw=1)\n",
    "ax.set_title(\"Training, CV, Test\",fontsize = 14)\n",
    "ax.set_xlabel(\"x\")\n",
    "ax.set_ylabel(\"y\")\n",
    "\n",
    "ax.scatter(X_train, y_train, color = \"red\",           label=\"train\")\n",
    "ax.scatter(X_cv, y_cv,       color = dlc[\"dlorange\"], label=\"cv\")\n",
    "ax.scatter(X_test, y_test,   color = dlc[\"dlblue\"],   label=\"test\")\n",
    "ax.legend(loc='upper left')\n",
    "plt.show()"
   ]
  },
  {
   "cell_type": "code",
   "execution_count": null,
   "id": "72e43b89",
   "metadata": {
    "vscode": {
     "languageId": "plaintext"
    }
   },
   "outputs": [],
   "source": [
    "max_degree = 9\n",
    "err_train = np.zeros(max_degree)    \n",
    "err_cv = np.zeros(max_degree)      \n",
    "x = np.linspace(0,int(X.max()),100)  \n",
    "y_pred = np.zeros((100,max_degree))  #columns are lines to plot\n",
    "\n",
    "for degree in range(max_degree):\n",
    "    lmodel = lin_model(degree+1)\n",
    "    lmodel.fit(X_train, y_train)\n",
    "    yhat = lmodel.predict(X_train)\n",
    "    err_train[degree] = lmodel.mse(y_train, yhat)\n",
    "    yhat = lmodel.predict(X_cv)\n",
    "    err_cv[degree] = lmodel.mse(y_cv, yhat)\n",
    "    y_pred[:,degree] = lmodel.predict(x)\n",
    "    \n",
    "optimal_degree = np.argmin(err_cv)+1"
   ]
  },
  {
   "cell_type": "code",
   "execution_count": null,
   "id": "08e3a6a9",
   "metadata": {
    "vscode": {
     "languageId": "plaintext"
    }
   },
   "outputs": [],
   "source": [
    "plt.close(\"all\")\n",
    "plt_optimal_degree(X_train, y_train, X_cv, y_cv, x, y_pred, x_ideal, y_ideal, \n",
    "                   err_train, err_cv, optimal_degree, max_degree)"
   ]
  },
  {
   "cell_type": "code",
   "execution_count": null,
   "id": "5c4b641c",
   "metadata": {
    "vscode": {
     "languageId": "plaintext"
    }
   },
   "outputs": [],
   "source": [
    "lambda_range = np.array([0.0, 1e-6, 1e-5, 1e-4,1e-3,1e-2, 1e-1,1,10,100])\n",
    "num_steps = len(lambda_range)\n",
    "degree = 10\n",
    "err_train = np.zeros(num_steps)    \n",
    "err_cv = np.zeros(num_steps)       \n",
    "x = np.linspace(0,int(X.max()),100) \n",
    "y_pred = np.zeros((100,num_steps))  #columns are lines to plot\n",
    "\n",
    "for i in range(num_steps):\n",
    "    lambda_= lambda_range[i]\n",
    "    lmodel = lin_model(degree, regularization=True, lambda_=lambda_)\n",
    "    lmodel.fit(X_train, y_train)\n",
    "    yhat = lmodel.predict(X_train)\n",
    "    err_train[i] = lmodel.mse(y_train, yhat)\n",
    "    yhat = lmodel.predict(X_cv)\n",
    "    err_cv[i] = lmodel.mse(y_cv, yhat)\n",
    "    y_pred[:,i] = lmodel.predict(x)\n",
    "    \n",
    "optimal_reg_idx = np.argmin(err_cv) "
   ]
  },
  {
   "cell_type": "code",
   "execution_count": null,
   "id": "79158b53",
   "metadata": {
    "vscode": {
     "languageId": "plaintext"
    }
   },
   "outputs": [],
   "source": [
    "plt.close(\"all\")\n",
    "plt_tune_regularization(X_train, y_train, X_cv, y_cv, x, y_pred, err_train, err_cv, optimal_reg_idx, lambda_range)"
   ]
  },
  {
   "cell_type": "code",
   "execution_count": null,
   "id": "0081db77",
   "metadata": {
    "vscode": {
     "languageId": "plaintext"
    }
   },
   "outputs": [],
   "source": [
    "X_train, y_train, X_cv, y_cv, x, y_pred, err_train, err_cv, m_range,degree = tune_m()\n",
    "plt_tune_m(X_train, y_train, X_cv, y_cv, x, y_pred, err_train, err_cv, m_range, degree)"
   ]
  },
  {
   "cell_type": "code",
   "execution_count": null,
   "id": "f76f6cfe",
   "metadata": {
    "vscode": {
     "languageId": "plaintext"
    }
   },
   "outputs": [],
   "source": [
    "# Generate and split data set\n",
    "X, y, centers, classes, std = gen_blobs()\n",
    "\n",
    "# split the data. Large CV population for demonstration\n",
    "X_train, X_, y_train, y_ = train_test_split(X,y,test_size=0.50, random_state=1)\n",
    "X_cv, X_test, y_cv, y_test = train_test_split(X_,y_,test_size=0.20, random_state=1)\n",
    "print(\"X_train.shape:\", X_train.shape, \"X_cv.shape:\", X_cv.shape, \"X_test.shape:\", X_test.shape)"
   ]
  },
  {
   "cell_type": "code",
   "execution_count": null,
   "id": "e44b2955",
   "metadata": {
    "vscode": {
     "languageId": "plaintext"
    }
   },
   "outputs": [],
   "source": [
    "plt_train_eq_dist(X_train, y_train,classes, X_cv, y_cv, centers, std)"
   ]
  },
  {
   "cell_type": "code",
   "execution_count": null,
   "id": "927ffee5",
   "metadata": {
    "vscode": {
     "languageId": "plaintext"
    }
   },
   "outputs": [],
   "source": [
    "# UNQ_C2\n",
    "# GRADED CELL: eval_cat_err\n",
    "def eval_cat_err(y, yhat):\n",
    "    \"\"\" \n",
    "    Calculate the categorization error\n",
    "    Args:\n",
    "      y    : (ndarray  Shape (m,) or (m,1))  target value of each example\n",
    "      yhat : (ndarray  Shape (m,) or (m,1))  predicted value of each example\n",
    "    Returns:|\n",
    "      cerr: (scalar)             \n",
    "    \"\"\"\n",
    "    cerr = 0\n",
    "    m = len(y)\n",
    "    incorrect = 0\n",
    "    for i in range(m):\n",
    "        if yhat[i] == y[i]:\n",
    "            cerr += 0\n",
    "        else:\n",
    "            cerr += 1\n",
    "    \n",
    "    cerr /= m\n",
    "    return(cerr)"
   ]
  },
  {
   "cell_type": "code",
   "execution_count": null,
   "id": "6bb06fef",
   "metadata": {
    "vscode": {
     "languageId": "plaintext"
    }
   },
   "outputs": [],
   "source": [
    "y_hat = np.array([1, 2, 0])\n",
    "y_tmp = np.array([1, 2, 3])\n",
    "print(f\"categorization error {np.squeeze(eval_cat_err(y_hat, y_tmp)):0.3f}, expected:0.333\" )\n",
    "y_hat = np.array([[1], [2], [0], [3]])\n",
    "y_tmp = np.array([[1], [2], [1], [3]])\n",
    "print(f\"categorization error {np.squeeze(eval_cat_err(y_hat, y_tmp)):0.3f}, expected:0.250\" )\n",
    "\n",
    "# BEGIN UNIT TEST  \n",
    "test_eval_cat_err(eval_cat_err)\n",
    "# END UNIT TEST"
   ]
  },
  {
   "cell_type": "code",
   "execution_count": null,
   "id": "141f6ddc",
   "metadata": {
    "vscode": {
     "languageId": "plaintext"
    }
   },
   "outputs": [],
   "source": [
    "# UNQ_C3\n",
    "# GRADED CELL: model\n",
    "import logging\n",
    "logging.getLogger(\"tensorflow\").setLevel(logging.ERROR)\n",
    "\n",
    "tf.random.set_seed(1234)\n",
    "model = Sequential(\n",
    "    [\n",
    "        Dense(120, activation = 'relu'),\n",
    "        Dense(40, activation = 'relu'),\n",
    "        Dense(6, activation = 'linear')\n",
    "    ], name=\"Complex\"\n",
    ")\n",
    "model.compile(\n",
    "    ### START CODE HERE ### \n",
    "    loss = tf.keras.losses.SparseCategoricalCrossentropy(from_logits = True),\n",
    "    optimizer = tf.keras.optimizers.Adam(0.01),\n",
    "    ### END CODE HERE ### \n",
    ")"
   ]
  },
  {
   "cell_type": "code",
   "execution_count": null,
   "id": "21c52782",
   "metadata": {
    "vscode": {
     "languageId": "plaintext"
    }
   },
   "outputs": [],
   "source": [
    "# BEGIN UNIT TEST\n",
    "model.fit(\n",
    "    X_train, y_train,\n",
    "    epochs=1000\n",
    ")\n",
    "# END UNIT TEST"
   ]
  },
  {
   "cell_type": "code",
   "execution_count": null,
   "id": "1e149603",
   "metadata": {
    "vscode": {
     "languageId": "plaintext"
    }
   },
   "outputs": [],
   "source": [
    "# BEGIN UNIT TEST\n",
    "model.summary()\n",
    "\n",
    "model_test(model, classes, X_train.shape[1]) \n",
    "# END UNIT TEST"
   ]
  },
  {
   "cell_type": "code",
   "execution_count": null,
   "id": "4e830fe7",
   "metadata": {
    "vscode": {
     "languageId": "plaintext"
    }
   },
   "outputs": [],
   "source": [
    "#make a model for plotting routines to call\n",
    "model_predict = lambda Xl: np.argmax(tf.nn.softmax(model.predict(Xl)).numpy(),axis=1)\n",
    "plt_nn(model_predict,X_train,y_train, classes, X_cv, y_cv, suptitle=\"Complex Model\")"
   ]
  },
  {
   "cell_type": "code",
   "execution_count": null,
   "id": "631f9d86",
   "metadata": {
    "vscode": {
     "languageId": "plaintext"
    }
   },
   "outputs": [],
   "source": [
    "training_cerr_complex = eval_cat_err(y_train, model_predict(X_train))\n",
    "cv_cerr_complex = eval_cat_err(y_cv, model_predict(X_cv))\n",
    "print(f\"categorization error, training, complex model: {training_cerr_complex:0.3f}\")\n",
    "print(f\"categorization error, cv,       complex model: {cv_cerr_complex:0.3f}\")"
   ]
  },
  {
   "cell_type": "code",
   "execution_count": null,
   "id": "b764f167",
   "metadata": {
    "vscode": {
     "languageId": "plaintext"
    }
   },
   "outputs": [],
   "source": [
    "# UNQ_C4\n",
    "# GRADED CELL: model_s\n",
    "\n",
    "tf.random.set_seed(1234)\n",
    "model_s = Sequential(\n",
    "    [\n",
    "        Dense(6, activation = 'relu'),\n",
    "        Dense(6, activation = 'linear')\n",
    "    ], name = \"Simple\"\n",
    ")\n",
    "model_s.compile(\n",
    "    ### START CODE HERE ### \n",
    "    loss = tf.keras.losses.SparseCategoricalCrossentropy(from_logits = True),\n",
    "    optimizer = tf.keras.optimizers.Adam(0.01),\n",
    "    ### START CODE HERE ### \n",
    ")\n"
   ]
  },
  {
   "cell_type": "code",
   "execution_count": null,
   "id": "46964219",
   "metadata": {
    "vscode": {
     "languageId": "plaintext"
    }
   },
   "outputs": [],
   "source": [
    "import logging\n",
    "logging.getLogger(\"tensorflow\").setLevel(logging.ERROR)\n",
    "\n",
    "# BEGIN UNIT TEST\n",
    "model_s.fit(\n",
    "    X_train,y_train,\n",
    "    epochs=1000\n",
    ")\n",
    "# END UNIT TEST"
   ]
  },
  {
   "cell_type": "code",
   "execution_count": null,
   "id": "3fc333cf",
   "metadata": {
    "vscode": {
     "languageId": "plaintext"
    }
   },
   "outputs": [],
   "source": [
    "# BEGIN UNIT TEST\n",
    "model_s.summary()\n",
    "\n",
    "model_s_test(model_s, classes, X_train.shape[1])\n",
    "# END UNIT TEST"
   ]
  },
  {
   "cell_type": "code",
   "execution_count": null,
   "id": "cca0685d",
   "metadata": {
    "vscode": {
     "languageId": "plaintext"
    }
   },
   "outputs": [],
   "source": [
    "#make a model for plotting routines to call\n",
    "model_predict_s = lambda Xl: np.argmax(tf.nn.softmax(model_s.predict(Xl)).numpy(),axis=1)\n",
    "plt_nn(model_predict_s,X_train,y_train, classes, X_cv, y_cv, suptitle=\"Simple Model\")"
   ]
  },
  {
   "cell_type": "code",
   "execution_count": null,
   "id": "8996addd",
   "metadata": {
    "vscode": {
     "languageId": "plaintext"
    }
   },
   "outputs": [],
   "source": [
    "training_cerr_simple = eval_cat_err(y_train, model_predict_s(X_train))\n",
    "cv_cerr_simple = eval_cat_err(y_cv, model_predict_s(X_cv))\n",
    "print(f\"categorization error, training, simple model, {training_cerr_simple:0.3f}, complex model: {training_cerr_complex:0.3f}\" )\n",
    "print(f\"categorization error, cv,       simple model, {cv_cerr_simple:0.3f}, complex model: {cv_cerr_complex:0.3f}\" )"
   ]
  },
  {
   "cell_type": "code",
   "execution_count": null,
   "id": "f5d6d1ae",
   "metadata": {
    "vscode": {
     "languageId": "plaintext"
    }
   },
   "outputs": [],
   "source": [
    "# UNQ_C5\n",
    "# GRADED CELL: model_r\n",
    "\n",
    "tf.random.set_seed(1234)\n",
    "model_r = Sequential(\n",
    "    [\n",
    "        ### START CODE HERE ### \n",
    "        Dense(120, activation = 'relu', kernel_regularizer=tf.keras.regularizers.l2(0.1)),\n",
    "        Dense(40, activation = 'relu', kernel_regularizer=tf.keras.regularizers.l2(0.1)),\n",
    "        Dense(6, activation = 'linear'),\n",
    "        \n",
    "        \n",
    "        ### START CODE HERE ### \n",
    "    ], name= None\n",
    ")\n",
    "model_r.compile(\n",
    "    ### START CODE HERE ### \n",
    "    loss = tf.keras.losses.SparseCategoricalCrossentropy(from_logits = True),\n",
    "    optimizer = tf.keras.optimizers.Adam(0.01),\n",
    "    ### START CODE HERE ### \n",
    ")\n"
   ]
  },
  {
   "cell_type": "code",
   "execution_count": null,
   "id": "956a827e",
   "metadata": {
    "vscode": {
     "languageId": "plaintext"
    }
   },
   "outputs": [],
   "source": [
    "# BEGIN UNIT TEST\n",
    "model_r.fit(\n",
    "    X_train, y_train,\n",
    "    epochs=1000\n",
    ")\n",
    "# END UNIT TEST"
   ]
  },
  {
   "cell_type": "code",
   "execution_count": null,
   "id": "f6202956",
   "metadata": {
    "vscode": {
     "languageId": "plaintext"
    }
   },
   "outputs": [],
   "source": [
    "# BEGIN UNIT TEST\n",
    "model_r.summary()\n",
    "\n",
    "model_r_test(model_r, classes, X_train.shape[1]) \n",
    "# END UNIT TEST"
   ]
  },
  {
   "cell_type": "code",
   "execution_count": null,
   "id": "4f357a50",
   "metadata": {
    "vscode": {
     "languageId": "plaintext"
    }
   },
   "outputs": [],
   "source": [
    "#make a model for plotting routines to call\n",
    "model_predict_r = lambda Xl: np.argmax(tf.nn.softmax(model_r.predict(Xl)).numpy(),axis=1)\n",
    " \n",
    "plt_nn(model_predict_r, X_train,y_train, classes, X_cv, y_cv, suptitle=\"Regularized\")"
   ]
  },
  {
   "cell_type": "code",
   "execution_count": null,
   "id": "3a1691c0",
   "metadata": {
    "vscode": {
     "languageId": "plaintext"
    }
   },
   "outputs": [],
   "source": [
    "training_cerr_reg = eval_cat_err(y_train, model_predict_r(X_train))\n",
    "cv_cerr_reg = eval_cat_err(y_cv, model_predict_r(X_cv))\n",
    "test_cerr_reg = eval_cat_err(y_test, model_predict_r(X_test))\n",
    "print(f\"categorization error, training, regularized: {training_cerr_reg:0.3f}, simple model, {training_cerr_simple:0.3f}, complex model: {training_cerr_complex:0.3f}\" )\n",
    "print(f\"categorization error, cv,       regularized: {cv_cerr_reg:0.3f}, simple model, {cv_cerr_simple:0.3f}, complex model: {cv_cerr_complex:0.3f}\" )"
   ]
  },
  {
   "cell_type": "code",
   "execution_count": null,
   "id": "f9b913fa",
   "metadata": {
    "vscode": {
     "languageId": "plaintext"
    }
   },
   "outputs": [],
   "source": [
    "tf.random.set_seed(1234)\n",
    "lambdas = [0.0, 0.001, 0.01, 0.05, 0.1, 0.2, 0.3]\n",
    "models=[None] * len(lambdas)\n",
    "\n",
    "for i in range(len(lambdas)):\n",
    "    lambda_ = lambdas[i]\n",
    "    models[i] =  Sequential(\n",
    "        [\n",
    "            Dense(120, activation = 'relu', kernel_regularizer=tf.keras.regularizers.l2(lambda_)),\n",
    "            Dense(40, activation = 'relu', kernel_regularizer=tf.keras.regularizers.l2(lambda_)),\n",
    "            Dense(classes, activation = 'linear')\n",
    "        ]\n",
    "    )\n",
    "    models[i].compile(\n",
    "        loss=tf.keras.losses.SparseCategoricalCrossentropy(from_logits=True),\n",
    "        optimizer=tf.keras.optimizers.Adam(0.01),\n",
    "    )\n",
    "\n",
    "    models[i].fit(\n",
    "        X_train,y_train,\n",
    "        epochs=1000\n",
    "    )\n",
    "    print(f\"Finished lambda = {lambda_}\")\n"
   ]
  },
  {
   "cell_type": "code",
   "execution_count": null,
   "id": "bc2514ce",
   "metadata": {
    "vscode": {
     "languageId": "plaintext"
    }
   },
   "outputs": [],
   "source": [
    "plot_iterate(lambdas, models, X_train, y_train, X_cv, y_cv)"
   ]
  },
  {
   "cell_type": "code",
   "execution_count": null,
   "id": "c1da6a66",
   "metadata": {
    "vscode": {
     "languageId": "plaintext"
    }
   },
   "outputs": [],
   "source": [
    "plt_compare(X_test,y_test, classes, model_predict_s, model_predict_r, centers)"
   ]
  },
  {
   "cell_type": "code",
   "execution_count": null,
   "id": "2ff8f128",
   "metadata": {
    "vscode": {
     "languageId": "plaintext"
    }
   },
   "outputs": [],
   "source": []
  }
 ],
 "metadata": {
  "language_info": {
   "name": "python"
  }
 },
 "nbformat": 4,
 "nbformat_minor": 5
}
